{
 "cells": [
  {
   "cell_type": "code",
   "execution_count": 1,
   "id": "1167e993",
   "metadata": {},
   "outputs": [
    {
     "data": {
      "text/plain": [
       "str"
      ]
     },
     "execution_count": 1,
     "metadata": {},
     "output_type": "execute_result"
    }
   ],
   "source": [
    "type(\"Hello\")"
   ]
  },
  {
   "cell_type": "code",
   "execution_count": 2,
   "id": "e2612062",
   "metadata": {},
   "outputs": [
    {
     "ename": "NameError",
     "evalue": "name 'math' is not defined",
     "output_type": "error",
     "traceback": [
      "\u001b[1;31m---------------------------------------------------------------------------\u001b[0m",
      "\u001b[1;31mNameError\u001b[0m                                 Traceback (most recent call last)",
      "\u001b[1;32m~\\AppData\\Local\\Temp/ipykernel_13548/2665817034.py\u001b[0m in \u001b[0;36m<module>\u001b[1;34m\u001b[0m\n\u001b[1;32m----> 1\u001b[1;33m \u001b[0mtype\u001b[0m\u001b[1;33m(\u001b[0m\u001b[0mmath\u001b[0m\u001b[1;33m.\u001b[0m\u001b[0mpi\u001b[0m\u001b[1;33m)\u001b[0m\u001b[1;33m\u001b[0m\u001b[1;33m\u001b[0m\u001b[0m\n\u001b[0m",
      "\u001b[1;31mNameError\u001b[0m: name 'math' is not defined"
     ]
    }
   ],
   "source": [
    "type(math.pi)"
   ]
  },
  {
   "cell_type": "code",
   "execution_count": 3,
   "id": "8110a00d",
   "metadata": {},
   "outputs": [],
   "source": [
    "import math"
   ]
  },
  {
   "cell_type": "code",
   "execution_count": 4,
   "id": "65bbe897",
   "metadata": {},
   "outputs": [
    {
     "data": {
      "text/plain": [
       "float"
      ]
     },
     "execution_count": 4,
     "metadata": {},
     "output_type": "execute_result"
    }
   ],
   "source": [
    "type(math.pi)"
   ]
  },
  {
   "cell_type": "code",
   "execution_count": 5,
   "id": "a8ba79b9",
   "metadata": {},
   "outputs": [
    {
     "data": {
      "text/plain": [
       "3.141592653589793"
      ]
     },
     "execution_count": 5,
     "metadata": {},
     "output_type": "execute_result"
    }
   ],
   "source": [
    "math.pi"
   ]
  },
  {
   "cell_type": "code",
   "execution_count": 6,
   "id": "5e5e053f",
   "metadata": {},
   "outputs": [
    {
     "data": {
      "text/plain": [
       "int"
      ]
     },
     "execution_count": 6,
     "metadata": {},
     "output_type": "execute_result"
    }
   ],
   "source": [
    "type(3+7)"
   ]
  },
  {
   "cell_type": "code",
   "execution_count": 7,
   "id": "f5858710",
   "metadata": {},
   "outputs": [
    {
     "data": {
      "text/plain": [
       "float"
      ]
     },
     "execution_count": 7,
     "metadata": {},
     "output_type": "execute_result"
    }
   ],
   "source": [
    "type(6.0//3.0)"
   ]
  },
  {
   "cell_type": "code",
   "execution_count": 8,
   "id": "2d927564",
   "metadata": {},
   "outputs": [
    {
     "data": {
      "text/plain": [
       "float"
      ]
     },
     "execution_count": 8,
     "metadata": {},
     "output_type": "execute_result"
    }
   ],
   "source": [
    "type(6/3.0)"
   ]
  },
  {
   "cell_type": "code",
   "execution_count": 9,
   "id": "95999bd1",
   "metadata": {},
   "outputs": [],
   "source": [
    "x,y,z = 'house', 'boat', 'ha'"
   ]
  },
  {
   "cell_type": "code",
   "execution_count": 10,
   "id": "2ea23960",
   "metadata": {},
   "outputs": [
    {
     "data": {
      "text/plain": [
       "'houseboat'"
      ]
     },
     "execution_count": 10,
     "metadata": {},
     "output_type": "execute_result"
    }
   ],
   "source": [
    "x+y"
   ]
  },
  {
   "cell_type": "code",
   "execution_count": 11,
   "id": "70c181b2",
   "metadata": {},
   "outputs": [
    {
     "data": {
      "text/plain": [
       "'boathouse'"
      ]
     },
     "execution_count": 11,
     "metadata": {},
     "output_type": "execute_result"
    }
   ],
   "source": [
    "y+x"
   ]
  },
  {
   "cell_type": "code",
   "execution_count": 12,
   "id": "b96d8c4b",
   "metadata": {},
   "outputs": [
    {
     "data": {
      "text/plain": [
       "'hahaha'"
      ]
     },
     "execution_count": 12,
     "metadata": {},
     "output_type": "execute_result"
    }
   ],
   "source": [
    "z*3"
   ]
  },
  {
   "cell_type": "code",
   "execution_count": 13,
   "id": "69d2250c",
   "metadata": {},
   "outputs": [
    {
     "ename": "TypeError",
     "evalue": "can't multiply sequence by non-int of type 'str'",
     "output_type": "error",
     "traceback": [
      "\u001b[1;31m---------------------------------------------------------------------------\u001b[0m",
      "\u001b[1;31mTypeError\u001b[0m                                 Traceback (most recent call last)",
      "\u001b[1;32m~\\AppData\\Local\\Temp/ipykernel_13548/3179617253.py\u001b[0m in \u001b[0;36m<module>\u001b[1;34m\u001b[0m\n\u001b[1;32m----> 1\u001b[1;33m \u001b[0mz\u001b[0m\u001b[1;33m*\u001b[0m\u001b[0mx\u001b[0m\u001b[1;33m\u001b[0m\u001b[1;33m\u001b[0m\u001b[0m\n\u001b[0m",
      "\u001b[1;31mTypeError\u001b[0m: can't multiply sequence by non-int of type 'str'"
     ]
    }
   ],
   "source": [
    "z*x"
   ]
  },
  {
   "cell_type": "code",
   "execution_count": 14,
   "id": "e29bd40d",
   "metadata": {},
   "outputs": [
    {
     "ename": "TypeError",
     "evalue": "can only concatenate str (not \"int\") to str",
     "output_type": "error",
     "traceback": [
      "\u001b[1;31m---------------------------------------------------------------------------\u001b[0m",
      "\u001b[1;31mTypeError\u001b[0m                                 Traceback (most recent call last)",
      "\u001b[1;32m~\\AppData\\Local\\Temp/ipykernel_13548/4097111698.py\u001b[0m in \u001b[0;36m<module>\u001b[1;34m\u001b[0m\n\u001b[1;32m----> 1\u001b[1;33m \u001b[0mx\u001b[0m\u001b[1;33m+\u001b[0m\u001b[1;36m2\u001b[0m\u001b[1;33m\u001b[0m\u001b[1;33m\u001b[0m\u001b[0m\n\u001b[0m",
      "\u001b[1;31mTypeError\u001b[0m: can only concatenate str (not \"int\") to str"
     ]
    }
   ],
   "source": [
    "x+2"
   ]
  },
  {
   "cell_type": "code",
   "execution_count": 15,
   "id": "4922ecb6",
   "metadata": {},
   "outputs": [
    {
     "data": {
      "text/plain": [
       "'boat2'"
      ]
     },
     "execution_count": 15,
     "metadata": {},
     "output_type": "execute_result"
    }
   ],
   "source": [
    "y+'2'"
   ]
  },
  {
   "cell_type": "code",
   "execution_count": 16,
   "id": "9213fce8",
   "metadata": {},
   "outputs": [],
   "source": [
    "base, height = 10, 5"
   ]
  },
  {
   "cell_type": "code",
   "execution_count": 18,
   "id": "68e436b3",
   "metadata": {},
   "outputs": [],
   "source": [
    "area = 1/2*base*height"
   ]
  },
  {
   "cell_type": "code",
   "execution_count": 19,
   "id": "dfff94a7",
   "metadata": {},
   "outputs": [
    {
     "data": {
      "text/plain": [
       "25.0"
      ]
     },
     "execution_count": 19,
     "metadata": {},
     "output_type": "execute_result"
    }
   ],
   "source": [
    "area"
   ]
  },
  {
   "cell_type": "code",
   "execution_count": 20,
   "id": "fb39093b",
   "metadata": {},
   "outputs": [],
   "source": [
    "k = 7\n",
    "k += 3\n",
    "k *= 2\n",
    "k -= 5\n",
    "k //= 6\n"
   ]
  },
  {
   "cell_type": "code",
   "execution_count": 21,
   "id": "11c1ce31",
   "metadata": {},
   "outputs": [
    {
     "data": {
      "text/plain": [
       "2"
      ]
     },
     "execution_count": 21,
     "metadata": {},
     "output_type": "execute_result"
    }
   ],
   "source": [
    "k"
   ]
  },
  {
   "cell_type": "code",
   "execution_count": 22,
   "id": "c62d3b60",
   "metadata": {},
   "outputs": [],
   "source": [
    "x=4"
   ]
  },
  {
   "cell_type": "code",
   "execution_count": 23,
   "id": "f1a8d557",
   "metadata": {},
   "outputs": [
    {
     "data": {
      "text/plain": [
       "int"
      ]
     },
     "execution_count": 23,
     "metadata": {},
     "output_type": "execute_result"
    }
   ],
   "source": [
    "type(x)"
   ]
  },
  {
   "cell_type": "code",
   "execution_count": 24,
   "id": "0760bf3b",
   "metadata": {},
   "outputs": [],
   "source": [
    "x+=1"
   ]
  },
  {
   "cell_type": "code",
   "execution_count": 25,
   "id": "2dfad686",
   "metadata": {},
   "outputs": [
    {
     "data": {
      "text/plain": [
       "int"
      ]
     },
     "execution_count": 25,
     "metadata": {},
     "output_type": "execute_result"
    }
   ],
   "source": [
    "type(x)"
   ]
  },
  {
   "cell_type": "code",
   "execution_count": 26,
   "id": "31d95e1c",
   "metadata": {},
   "outputs": [],
   "source": [
    "x += 1.0"
   ]
  },
  {
   "cell_type": "code",
   "execution_count": 27,
   "id": "d93e7e73",
   "metadata": {},
   "outputs": [
    {
     "data": {
      "text/plain": [
       "float"
      ]
     },
     "execution_count": 27,
     "metadata": {},
     "output_type": "execute_result"
    }
   ],
   "source": [
    "type(x)"
   ]
  },
  {
   "cell_type": "code",
   "execution_count": 82,
   "id": "ff14b8d0",
   "metadata": {},
   "outputs": [],
   "source": [
    "import pandas as pd"
   ]
  },
  {
   "cell_type": "code",
   "execution_count": 83,
   "id": "35465ee0",
   "metadata": {},
   "outputs": [],
   "source": [
    "df = pd.read_csv('messy_data.csv', sep=';', encoding = 'Latin-1')"
   ]
  },
  {
   "cell_type": "code",
   "execution_count": 84,
   "id": "7416aa73",
   "metadata": {},
   "outputs": [
    {
     "data": {
      "text/html": [
       "<div>\n",
       "<style scoped>\n",
       "    .dataframe tbody tr th:only-of-type {\n",
       "        vertical-align: middle;\n",
       "    }\n",
       "\n",
       "    .dataframe tbody tr th {\n",
       "        vertical-align: top;\n",
       "    }\n",
       "\n",
       "    .dataframe thead th {\n",
       "        text-align: right;\n",
       "    }\n",
       "</style>\n",
       "<table border=\"1\" class=\"dataframe\">\n",
       "  <thead>\n",
       "    <tr style=\"text-align: right;\">\n",
       "      <th></th>\n",
       "      <th>IMBD title ID</th>\n",
       "      <th>Original titlÊ</th>\n",
       "      <th>Release year</th>\n",
       "      <th>Genrë¨</th>\n",
       "      <th>Duration</th>\n",
       "      <th>Country</th>\n",
       "      <th>Content Rating</th>\n",
       "      <th>Director</th>\n",
       "      <th>Unnamed: 8</th>\n",
       "      <th>Income</th>\n",
       "      <th>Votes</th>\n",
       "      <th>Score</th>\n",
       "    </tr>\n",
       "  </thead>\n",
       "  <tbody>\n",
       "    <tr>\n",
       "      <th>0</th>\n",
       "      <td>tt0111161</td>\n",
       "      <td>The Shawshank Redemption</td>\n",
       "      <td>1995-02-10</td>\n",
       "      <td>Drama</td>\n",
       "      <td>142</td>\n",
       "      <td>USA</td>\n",
       "      <td>R</td>\n",
       "      <td>Frank Darabont</td>\n",
       "      <td>NaN</td>\n",
       "      <td>$ 28815245</td>\n",
       "      <td>2.278.845</td>\n",
       "      <td>9.3</td>\n",
       "    </tr>\n",
       "    <tr>\n",
       "      <th>1</th>\n",
       "      <td>tt0068646</td>\n",
       "      <td>The Godfather</td>\n",
       "      <td>09 21 1972</td>\n",
       "      <td>Crime, Drama</td>\n",
       "      <td>175</td>\n",
       "      <td>USA</td>\n",
       "      <td>R</td>\n",
       "      <td>Francis Ford Coppola</td>\n",
       "      <td>NaN</td>\n",
       "      <td>$ 246120974</td>\n",
       "      <td>1.572.674</td>\n",
       "      <td>9.2</td>\n",
       "    </tr>\n",
       "  </tbody>\n",
       "</table>\n",
       "</div>"
      ],
      "text/plain": [
       "  IMBD title ID            Original titlÊ Release year        Genrë¨ Duration  \\\n",
       "0     tt0111161  The Shawshank Redemption   1995-02-10         Drama      142   \n",
       "1     tt0068646             The Godfather   09 21 1972  Crime, Drama      175   \n",
       "\n",
       "  Country Content Rating              Director  Unnamed: 8       Income  \\\n",
       "0     USA              R        Frank Darabont         NaN   $ 28815245   \n",
       "1     USA              R  Francis Ford Coppola         NaN  $ 246120974   \n",
       "\n",
       "      Votes  Score  \n",
       "0  2.278.845   9.3  \n",
       "1  1.572.674   9.2  "
      ]
     },
     "execution_count": 84,
     "metadata": {},
     "output_type": "execute_result"
    }
   ],
   "source": [
    "df.head(2)"
   ]
  },
  {
   "cell_type": "code",
   "execution_count": 85,
   "id": "c16621f7",
   "metadata": {},
   "outputs": [],
   "source": [
    "df.drop(columns=['IMBD title ID', 'Unnamed: 8'], axis=1, inplace=True)"
   ]
  },
  {
   "cell_type": "code",
   "execution_count": 86,
   "id": "633b997d",
   "metadata": {},
   "outputs": [
    {
     "data": {
      "text/html": [
       "<div>\n",
       "<style scoped>\n",
       "    .dataframe tbody tr th:only-of-type {\n",
       "        vertical-align: middle;\n",
       "    }\n",
       "\n",
       "    .dataframe tbody tr th {\n",
       "        vertical-align: top;\n",
       "    }\n",
       "\n",
       "    .dataframe thead th {\n",
       "        text-align: right;\n",
       "    }\n",
       "</style>\n",
       "<table border=\"1\" class=\"dataframe\">\n",
       "  <thead>\n",
       "    <tr style=\"text-align: right;\">\n",
       "      <th></th>\n",
       "      <th>Original titlÊ</th>\n",
       "      <th>Release year</th>\n",
       "      <th>Genrë¨</th>\n",
       "      <th>Duration</th>\n",
       "      <th>Country</th>\n",
       "      <th>Content Rating</th>\n",
       "      <th>Director</th>\n",
       "      <th>Income</th>\n",
       "      <th>Votes</th>\n",
       "      <th>Score</th>\n",
       "    </tr>\n",
       "  </thead>\n",
       "  <tbody>\n",
       "    <tr>\n",
       "      <th>0</th>\n",
       "      <td>The Shawshank Redemption</td>\n",
       "      <td>1995-02-10</td>\n",
       "      <td>Drama</td>\n",
       "      <td>142</td>\n",
       "      <td>USA</td>\n",
       "      <td>R</td>\n",
       "      <td>Frank Darabont</td>\n",
       "      <td>$ 28815245</td>\n",
       "      <td>2.278.845</td>\n",
       "      <td>9.3</td>\n",
       "    </tr>\n",
       "    <tr>\n",
       "      <th>1</th>\n",
       "      <td>The Godfather</td>\n",
       "      <td>09 21 1972</td>\n",
       "      <td>Crime, Drama</td>\n",
       "      <td>175</td>\n",
       "      <td>USA</td>\n",
       "      <td>R</td>\n",
       "      <td>Francis Ford Coppola</td>\n",
       "      <td>$ 246120974</td>\n",
       "      <td>1.572.674</td>\n",
       "      <td>9.2</td>\n",
       "    </tr>\n",
       "  </tbody>\n",
       "</table>\n",
       "</div>"
      ],
      "text/plain": [
       "             Original titlÊ Release year        Genrë¨ Duration Country  \\\n",
       "0  The Shawshank Redemption   1995-02-10         Drama      142     USA   \n",
       "1             The Godfather   09 21 1972  Crime, Drama      175     USA   \n",
       "\n",
       "  Content Rating              Director       Income     Votes  Score  \n",
       "0              R        Frank Darabont   $ 28815245  2.278.845   9.3  \n",
       "1              R  Francis Ford Coppola  $ 246120974  1.572.674   9.2  "
      ]
     },
     "execution_count": 86,
     "metadata": {},
     "output_type": "execute_result"
    }
   ],
   "source": [
    "df.head(2)"
   ]
  },
  {
   "cell_type": "code",
   "execution_count": 87,
   "id": "ea2e8236",
   "metadata": {},
   "outputs": [],
   "source": [
    "df.rename(columns={'Original titlÊ':'title', 'Release year':'release_year',\n",
    "                  'Genrë¨':'genre', 'Content Rating':'content_rating'}, inplace=True)"
   ]
  },
  {
   "cell_type": "code",
   "execution_count": 88,
   "id": "4d10046c",
   "metadata": {},
   "outputs": [],
   "source": [
    "df.columns = df.columns.str.lower()"
   ]
  },
  {
   "cell_type": "code",
   "execution_count": 89,
   "id": "4bc8b9f3",
   "metadata": {},
   "outputs": [
    {
     "data": {
      "text/html": [
       "<div>\n",
       "<style scoped>\n",
       "    .dataframe tbody tr th:only-of-type {\n",
       "        vertical-align: middle;\n",
       "    }\n",
       "\n",
       "    .dataframe tbody tr th {\n",
       "        vertical-align: top;\n",
       "    }\n",
       "\n",
       "    .dataframe thead th {\n",
       "        text-align: right;\n",
       "    }\n",
       "</style>\n",
       "<table border=\"1\" class=\"dataframe\">\n",
       "  <thead>\n",
       "    <tr style=\"text-align: right;\">\n",
       "      <th></th>\n",
       "      <th>title</th>\n",
       "      <th>release_year</th>\n",
       "      <th>genre</th>\n",
       "      <th>duration</th>\n",
       "      <th>country</th>\n",
       "      <th>content_rating</th>\n",
       "      <th>director</th>\n",
       "      <th>income</th>\n",
       "      <th>votes</th>\n",
       "      <th>score</th>\n",
       "    </tr>\n",
       "  </thead>\n",
       "  <tbody>\n",
       "    <tr>\n",
       "      <th>0</th>\n",
       "      <td>The Shawshank Redemption</td>\n",
       "      <td>1995-02-10</td>\n",
       "      <td>Drama</td>\n",
       "      <td>142</td>\n",
       "      <td>USA</td>\n",
       "      <td>R</td>\n",
       "      <td>Frank Darabont</td>\n",
       "      <td>$ 28815245</td>\n",
       "      <td>2.278.845</td>\n",
       "      <td>9.3</td>\n",
       "    </tr>\n",
       "    <tr>\n",
       "      <th>1</th>\n",
       "      <td>The Godfather</td>\n",
       "      <td>09 21 1972</td>\n",
       "      <td>Crime, Drama</td>\n",
       "      <td>175</td>\n",
       "      <td>USA</td>\n",
       "      <td>R</td>\n",
       "      <td>Francis Ford Coppola</td>\n",
       "      <td>$ 246120974</td>\n",
       "      <td>1.572.674</td>\n",
       "      <td>9.2</td>\n",
       "    </tr>\n",
       "  </tbody>\n",
       "</table>\n",
       "</div>"
      ],
      "text/plain": [
       "                      title release_year         genre duration country  \\\n",
       "0  The Shawshank Redemption   1995-02-10         Drama      142     USA   \n",
       "1             The Godfather   09 21 1972  Crime, Drama      175     USA   \n",
       "\n",
       "  content_rating              director       income     votes  score  \n",
       "0              R        Frank Darabont   $ 28815245  2.278.845   9.3  \n",
       "1              R  Francis Ford Coppola  $ 246120974  1.572.674   9.2  "
      ]
     },
     "execution_count": 89,
     "metadata": {},
     "output_type": "execute_result"
    }
   ],
   "source": [
    "df.head(2)"
   ]
  },
  {
   "cell_type": "code",
   "execution_count": 90,
   "id": "413565f7",
   "metadata": {},
   "outputs": [
    {
     "data": {
      "text/plain": [
       "(101, 10)"
      ]
     },
     "execution_count": 90,
     "metadata": {},
     "output_type": "execute_result"
    }
   ],
   "source": [
    "df.shape"
   ]
  },
  {
   "cell_type": "code",
   "execution_count": 91,
   "id": "0dbee2e2",
   "metadata": {},
   "outputs": [
    {
     "name": "stdout",
     "output_type": "stream",
     "text": [
      "<class 'pandas.core.frame.DataFrame'>\n",
      "RangeIndex: 101 entries, 0 to 100\n",
      "Data columns (total 10 columns):\n",
      " #   Column          Non-Null Count  Dtype \n",
      "---  ------          --------------  ----- \n",
      " 0   title           100 non-null    object\n",
      " 1   release_year    100 non-null    object\n",
      " 2   genre           100 non-null    object\n",
      " 3   duration        99 non-null     object\n",
      " 4   country         100 non-null    object\n",
      " 5   content_rating  77 non-null     object\n",
      " 6   director        100 non-null    object\n",
      " 7   income          100 non-null    object\n",
      " 8    votes          100 non-null    object\n",
      " 9   score           100 non-null    object\n",
      "dtypes: object(10)\n",
      "memory usage: 8.0+ KB\n"
     ]
    }
   ],
   "source": [
    "df.info()"
   ]
  },
  {
   "cell_type": "code",
   "execution_count": 93,
   "id": "37a5c0c3",
   "metadata": {},
   "outputs": [],
   "source": [
    "df.release_year = pd.to_datetime(df.release_year, errors='coerce')"
   ]
  },
  {
   "cell_type": "code",
   "execution_count": 94,
   "id": "57950854",
   "metadata": {},
   "outputs": [
    {
     "name": "stdout",
     "output_type": "stream",
     "text": [
      "<class 'pandas.core.frame.DataFrame'>\n",
      "RangeIndex: 101 entries, 0 to 100\n",
      "Data columns (total 10 columns):\n",
      " #   Column          Non-Null Count  Dtype         \n",
      "---  ------          --------------  -----         \n",
      " 0   title           100 non-null    object        \n",
      " 1   release_year    97 non-null     datetime64[ns]\n",
      " 2   genre           100 non-null    object        \n",
      " 3   duration        99 non-null     object        \n",
      " 4   country         100 non-null    object        \n",
      " 5   content_rating  77 non-null     object        \n",
      " 6   director        100 non-null    object        \n",
      " 7   income          100 non-null    object        \n",
      " 8    votes          100 non-null    object        \n",
      " 9   score           100 non-null    object        \n",
      "dtypes: datetime64[ns](1), object(9)\n",
      "memory usage: 8.0+ KB\n"
     ]
    }
   ],
   "source": [
    "df.info()"
   ]
  },
  {
   "cell_type": "code",
   "execution_count": 96,
   "id": "df9747ce",
   "metadata": {},
   "outputs": [
    {
     "data": {
      "text/html": [
       "<div>\n",
       "<style scoped>\n",
       "    .dataframe tbody tr th:only-of-type {\n",
       "        vertical-align: middle;\n",
       "    }\n",
       "\n",
       "    .dataframe tbody tr th {\n",
       "        vertical-align: top;\n",
       "    }\n",
       "\n",
       "    .dataframe thead th {\n",
       "        text-align: right;\n",
       "    }\n",
       "</style>\n",
       "<table border=\"1\" class=\"dataframe\">\n",
       "  <thead>\n",
       "    <tr style=\"text-align: right;\">\n",
       "      <th></th>\n",
       "      <th>title</th>\n",
       "      <th>release_year</th>\n",
       "      <th>genre</th>\n",
       "      <th>duration</th>\n",
       "      <th>country</th>\n",
       "      <th>content_rating</th>\n",
       "      <th>director</th>\n",
       "      <th>income</th>\n",
       "      <th>votes</th>\n",
       "      <th>score</th>\n",
       "    </tr>\n",
       "  </thead>\n",
       "  <tbody>\n",
       "    <tr>\n",
       "      <th>0</th>\n",
       "      <td>The Shawshank Redemption</td>\n",
       "      <td>1995-02-10</td>\n",
       "      <td>Drama</td>\n",
       "      <td>142</td>\n",
       "      <td>USA</td>\n",
       "      <td>R</td>\n",
       "      <td>Frank Darabont</td>\n",
       "      <td>$ 28815245</td>\n",
       "      <td>2.278.845</td>\n",
       "      <td>9.3</td>\n",
       "    </tr>\n",
       "    <tr>\n",
       "      <th>1</th>\n",
       "      <td>The Godfather</td>\n",
       "      <td>1972-09-21</td>\n",
       "      <td>Crime, Drama</td>\n",
       "      <td>175</td>\n",
       "      <td>USA</td>\n",
       "      <td>R</td>\n",
       "      <td>Francis Ford Coppola</td>\n",
       "      <td>$ 246120974</td>\n",
       "      <td>1.572.674</td>\n",
       "      <td>9.2</td>\n",
       "    </tr>\n",
       "  </tbody>\n",
       "</table>\n",
       "</div>"
      ],
      "text/plain": [
       "                      title release_year         genre duration country  \\\n",
       "0  The Shawshank Redemption   1995-02-10         Drama      142     USA   \n",
       "1             The Godfather   1972-09-21  Crime, Drama      175     USA   \n",
       "\n",
       "  content_rating              director       income     votes  score  \n",
       "0              R        Frank Darabont   $ 28815245  2.278.845   9.3  \n",
       "1              R  Francis Ford Coppola  $ 246120974  1.572.674   9.2  "
      ]
     },
     "execution_count": 96,
     "metadata": {},
     "output_type": "execute_result"
    }
   ],
   "source": [
    "df.head(2)"
   ]
  },
  {
   "cell_type": "code",
   "execution_count": 149,
   "id": "521ba977",
   "metadata": {},
   "outputs": [],
   "source": [
    "df.duration = df.duration.fillna(0)"
   ]
  },
  {
   "cell_type": "code",
   "execution_count": 127,
   "id": "a4cb99f2",
   "metadata": {},
   "outputs": [
    {
     "data": {
      "text/html": [
       "<div>\n",
       "<style scoped>\n",
       "    .dataframe tbody tr th:only-of-type {\n",
       "        vertical-align: middle;\n",
       "    }\n",
       "\n",
       "    .dataframe tbody tr th {\n",
       "        vertical-align: top;\n",
       "    }\n",
       "\n",
       "    .dataframe thead th {\n",
       "        text-align: right;\n",
       "    }\n",
       "</style>\n",
       "<table border=\"1\" class=\"dataframe\">\n",
       "  <thead>\n",
       "    <tr style=\"text-align: right;\">\n",
       "      <th></th>\n",
       "      <th>title</th>\n",
       "      <th>release_year</th>\n",
       "      <th>genre</th>\n",
       "      <th>duration</th>\n",
       "      <th>country</th>\n",
       "      <th>content_rating</th>\n",
       "      <th>director</th>\n",
       "      <th>income</th>\n",
       "      <th>votes</th>\n",
       "      <th>score</th>\n",
       "    </tr>\n",
       "  </thead>\n",
       "  <tbody>\n",
       "    <tr>\n",
       "      <th>6</th>\n",
       "      <td>Schindler's List</td>\n",
       "      <td>1994-03-11</td>\n",
       "      <td>Biography, Drama, History</td>\n",
       "      <td>Nan</td>\n",
       "      <td>USA</td>\n",
       "      <td>R</td>\n",
       "      <td>Steven Spielberg</td>\n",
       "      <td>$ 322287794</td>\n",
       "      <td>1.183.248</td>\n",
       "      <td>8.9</td>\n",
       "    </tr>\n",
       "  </tbody>\n",
       "</table>\n",
       "</div>"
      ],
      "text/plain": [
       "              title release_year                      genre duration country  \\\n",
       "6  Schindler's List   1994-03-11  Biography, Drama, History      Nan     USA   \n",
       "\n",
       "  content_rating          director       income     votes  score  \n",
       "6              R  Steven Spielberg  $ 322287794  1.183.248   8.9  "
      ]
     },
     "execution_count": 127,
     "metadata": {},
     "output_type": "execute_result"
    }
   ],
   "source": [
    "df.query('duration == \"Nan\"')"
   ]
  },
  {
   "cell_type": "code",
   "execution_count": 146,
   "id": "10e96053",
   "metadata": {},
   "outputs": [],
   "source": [
    "df.duration=df.duration.str.replace('-', '0')"
   ]
  },
  {
   "cell_type": "code",
   "execution_count": 150,
   "id": "aebf0ee7",
   "metadata": {},
   "outputs": [
    {
     "data": {
      "text/plain": [
       "0"
      ]
     },
     "execution_count": 150,
     "metadata": {},
     "output_type": "execute_result"
    }
   ],
   "source": [
    "sum(df.duration.isnull())"
   ]
  },
  {
   "cell_type": "code",
   "execution_count": 151,
   "id": "90b3836f",
   "metadata": {},
   "outputs": [],
   "source": [
    "df.duration = df.duration.astype(int)"
   ]
  },
  {
   "cell_type": "code",
   "execution_count": 152,
   "id": "cf34a1f6",
   "metadata": {},
   "outputs": [
    {
     "name": "stdout",
     "output_type": "stream",
     "text": [
      "<class 'pandas.core.frame.DataFrame'>\n",
      "RangeIndex: 101 entries, 0 to 100\n",
      "Data columns (total 10 columns):\n",
      " #   Column          Non-Null Count  Dtype         \n",
      "---  ------          --------------  -----         \n",
      " 0   title           100 non-null    object        \n",
      " 1   release_year    97 non-null     datetime64[ns]\n",
      " 2   genre           100 non-null    object        \n",
      " 3   duration        101 non-null    int32         \n",
      " 4   country         100 non-null    object        \n",
      " 5   content_rating  77 non-null     object        \n",
      " 6   director        100 non-null    object        \n",
      " 7   income          100 non-null    object        \n",
      " 8    votes          100 non-null    object        \n",
      " 9   score           100 non-null    object        \n",
      "dtypes: datetime64[ns](1), int32(1), object(8)\n",
      "memory usage: 7.6+ KB\n"
     ]
    }
   ],
   "source": [
    "df.info()"
   ]
  },
  {
   "cell_type": "code",
   "execution_count": 153,
   "id": "c0f27bc0",
   "metadata": {},
   "outputs": [
    {
     "data": {
      "text/html": [
       "<div>\n",
       "<style scoped>\n",
       "    .dataframe tbody tr th:only-of-type {\n",
       "        vertical-align: middle;\n",
       "    }\n",
       "\n",
       "    .dataframe tbody tr th {\n",
       "        vertical-align: top;\n",
       "    }\n",
       "\n",
       "    .dataframe thead th {\n",
       "        text-align: right;\n",
       "    }\n",
       "</style>\n",
       "<table border=\"1\" class=\"dataframe\">\n",
       "  <thead>\n",
       "    <tr style=\"text-align: right;\">\n",
       "      <th></th>\n",
       "      <th>title</th>\n",
       "      <th>release_year</th>\n",
       "      <th>genre</th>\n",
       "      <th>duration</th>\n",
       "      <th>country</th>\n",
       "      <th>content_rating</th>\n",
       "      <th>director</th>\n",
       "      <th>income</th>\n",
       "      <th>votes</th>\n",
       "      <th>score</th>\n",
       "    </tr>\n",
       "  </thead>\n",
       "  <tbody>\n",
       "    <tr>\n",
       "      <th>0</th>\n",
       "      <td>The Shawshank Redemption</td>\n",
       "      <td>1995-02-10</td>\n",
       "      <td>Drama</td>\n",
       "      <td>142</td>\n",
       "      <td>USA</td>\n",
       "      <td>R</td>\n",
       "      <td>Frank Darabont</td>\n",
       "      <td>$ 28815245</td>\n",
       "      <td>2.278.845</td>\n",
       "      <td>9.3</td>\n",
       "    </tr>\n",
       "    <tr>\n",
       "      <th>1</th>\n",
       "      <td>The Godfather</td>\n",
       "      <td>1972-09-21</td>\n",
       "      <td>Crime, Drama</td>\n",
       "      <td>175</td>\n",
       "      <td>USA</td>\n",
       "      <td>R</td>\n",
       "      <td>Francis Ford Coppola</td>\n",
       "      <td>$ 246120974</td>\n",
       "      <td>1.572.674</td>\n",
       "      <td>9.2</td>\n",
       "    </tr>\n",
       "    <tr>\n",
       "      <th>2</th>\n",
       "      <td>The Dark Knight</td>\n",
       "      <td>2008-07-23</td>\n",
       "      <td>Action, Crime, Drama</td>\n",
       "      <td>152</td>\n",
       "      <td>US</td>\n",
       "      <td>PG-13</td>\n",
       "      <td>Christopher Nolan</td>\n",
       "      <td>$ 1005455211</td>\n",
       "      <td>2.241.615</td>\n",
       "      <td>9.</td>\n",
       "    </tr>\n",
       "  </tbody>\n",
       "</table>\n",
       "</div>"
      ],
      "text/plain": [
       "                      title release_year                 genre  duration  \\\n",
       "0  The Shawshank Redemption   1995-02-10                 Drama       142   \n",
       "1             The Godfather   1972-09-21          Crime, Drama       175   \n",
       "2           The Dark Knight   2008-07-23  Action, Crime, Drama       152   \n",
       "\n",
       "  country content_rating              director        income     votes  score  \n",
       "0     USA              R        Frank Darabont    $ 28815245  2.278.845   9.3  \n",
       "1     USA              R  Francis Ford Coppola   $ 246120974  1.572.674   9.2  \n",
       "2      US          PG-13     Christopher Nolan  $ 1005455211  2.241.615    9.  "
      ]
     },
     "execution_count": 153,
     "metadata": {},
     "output_type": "execute_result"
    }
   ],
   "source": [
    "df.head(3)"
   ]
  },
  {
   "cell_type": "code",
   "execution_count": 158,
   "id": "86886edc",
   "metadata": {},
   "outputs": [],
   "source": [
    "df.country.replace({'US':'USA', 'US.':'USA', 'New Zesland':'New Zealand',\n",
    "                   'NaN':'None', 'Italy1':'Italy'}, inplace=True)"
   ]
  },
  {
   "cell_type": "code",
   "execution_count": 160,
   "id": "d9f7c6a1",
   "metadata": {},
   "outputs": [],
   "source": [
    "df.country = df.country.replace('New Zeland','New Zealand')"
   ]
  },
  {
   "cell_type": "code",
   "execution_count": 163,
   "id": "36b4e5bd",
   "metadata": {},
   "outputs": [
    {
     "data": {
      "text/plain": [
       "USA             64\n",
       "UK              12\n",
       "Italy            5\n",
       "Japan            4\n",
       "New Zealand      3\n",
       "France           3\n",
       "South Korea      2\n",
       "Germany          2\n",
       "Brazil           1\n",
       "India            1\n",
       "Denmark          1\n",
       "West Germany     1\n",
       "Iran             1\n",
       "Name: country, dtype: int64"
      ]
     },
     "execution_count": 163,
     "metadata": {},
     "output_type": "execute_result"
    }
   ],
   "source": [
    "df.country.value_counts()"
   ]
  },
  {
   "cell_type": "code",
   "execution_count": 164,
   "id": "6ed06e20",
   "metadata": {},
   "outputs": [
    {
     "name": "stdout",
     "output_type": "stream",
     "text": [
      "<class 'pandas.core.frame.DataFrame'>\n",
      "RangeIndex: 101 entries, 0 to 100\n",
      "Data columns (total 10 columns):\n",
      " #   Column          Non-Null Count  Dtype         \n",
      "---  ------          --------------  -----         \n",
      " 0   title           100 non-null    object        \n",
      " 1   release_year    97 non-null     datetime64[ns]\n",
      " 2   genre           100 non-null    object        \n",
      " 3   duration        101 non-null    int32         \n",
      " 4   country         100 non-null    object        \n",
      " 5   content_rating  77 non-null     object        \n",
      " 6   director        100 non-null    object        \n",
      " 7   income          100 non-null    object        \n",
      " 8    votes          100 non-null    object        \n",
      " 9   score           100 non-null    object        \n",
      "dtypes: datetime64[ns](1), int32(1), object(8)\n",
      "memory usage: 7.6+ KB\n"
     ]
    }
   ],
   "source": [
    "df.info()"
   ]
  },
  {
   "cell_type": "code",
   "execution_count": 174,
   "id": "cabfef91",
   "metadata": {},
   "outputs": [
    {
     "data": {
      "text/html": [
       "<div>\n",
       "<style scoped>\n",
       "    .dataframe tbody tr th:only-of-type {\n",
       "        vertical-align: middle;\n",
       "    }\n",
       "\n",
       "    .dataframe tbody tr th {\n",
       "        vertical-align: top;\n",
       "    }\n",
       "\n",
       "    .dataframe thead th {\n",
       "        text-align: right;\n",
       "    }\n",
       "</style>\n",
       "<table border=\"1\" class=\"dataframe\">\n",
       "  <thead>\n",
       "    <tr style=\"text-align: right;\">\n",
       "      <th></th>\n",
       "      <th>title</th>\n",
       "      <th>release_year</th>\n",
       "      <th>genre</th>\n",
       "      <th>duration</th>\n",
       "      <th>country</th>\n",
       "      <th>content_rating</th>\n",
       "      <th>director</th>\n",
       "      <th>income</th>\n",
       "      <th>votes</th>\n",
       "      <th>score</th>\n",
       "    </tr>\n",
       "  </thead>\n",
       "  <tbody>\n",
       "    <tr>\n",
       "      <th>0</th>\n",
       "      <td>The Shawshank Redemption</td>\n",
       "      <td>1995-02-10</td>\n",
       "      <td>Drama</td>\n",
       "      <td>142</td>\n",
       "      <td>USA</td>\n",
       "      <td>R</td>\n",
       "      <td>Frank Darabont</td>\n",
       "      <td>$ 28815245</td>\n",
       "      <td>2.278.845</td>\n",
       "      <td>9.3</td>\n",
       "    </tr>\n",
       "    <tr>\n",
       "      <th>1</th>\n",
       "      <td>The Godfather</td>\n",
       "      <td>1972-09-21</td>\n",
       "      <td>Crime, Drama</td>\n",
       "      <td>175</td>\n",
       "      <td>USA</td>\n",
       "      <td>R</td>\n",
       "      <td>Francis Ford Coppola</td>\n",
       "      <td>$ 246120974</td>\n",
       "      <td>1.572.674</td>\n",
       "      <td>9.2</td>\n",
       "    </tr>\n",
       "  </tbody>\n",
       "</table>\n",
       "</div>"
      ],
      "text/plain": [
       "                      title release_year         genre  duration country  \\\n",
       "0  The Shawshank Redemption   1995-02-10         Drama       142     USA   \n",
       "1             The Godfather   1972-09-21  Crime, Drama       175     USA   \n",
       "\n",
       "  content_rating              director       income     votes  score  \n",
       "0              R        Frank Darabont   $ 28815245  2.278.845   9.3  \n",
       "1              R  Francis Ford Coppola  $ 246120974  1.572.674   9.2  "
      ]
     },
     "execution_count": 174,
     "metadata": {},
     "output_type": "execute_result"
    }
   ],
   "source": [
    "pd.reset_option('display.max_rows')\n",
    "df.head(2)"
   ]
  },
  {
   "cell_type": "code",
   "execution_count": 176,
   "id": "9533fc2b",
   "metadata": {},
   "outputs": [],
   "source": [
    "df.drop(13, axis=0, inplace=True)"
   ]
  },
  {
   "cell_type": "code",
   "execution_count": 177,
   "id": "6f16e825",
   "metadata": {},
   "outputs": [
    {
     "name": "stdout",
     "output_type": "stream",
     "text": [
      "<class 'pandas.core.frame.DataFrame'>\n",
      "Int64Index: 100 entries, 0 to 100\n",
      "Data columns (total 10 columns):\n",
      " #   Column          Non-Null Count  Dtype         \n",
      "---  ------          --------------  -----         \n",
      " 0   title           100 non-null    object        \n",
      " 1   release_year    97 non-null     datetime64[ns]\n",
      " 2   genre           100 non-null    object        \n",
      " 3   duration        100 non-null    int32         \n",
      " 4   country         100 non-null    object        \n",
      " 5   content_rating  77 non-null     object        \n",
      " 6   director        100 non-null    object        \n",
      " 7   income          100 non-null    object        \n",
      " 8    votes          100 non-null    object        \n",
      " 9   score           100 non-null    object        \n",
      "dtypes: datetime64[ns](1), int32(1), object(8)\n",
      "memory usage: 8.2+ KB\n"
     ]
    }
   ],
   "source": [
    "df.info()"
   ]
  },
  {
   "cell_type": "code",
   "execution_count": 179,
   "id": "3303c917",
   "metadata": {},
   "outputs": [
    {
     "data": {
      "text/plain": [
       "R            45\n",
       "PG-13        12\n",
       "PG           11\n",
       "G             6\n",
       "Not Rated     1\n",
       "Approved      1\n",
       "Unrated       1\n",
       "Name: content_rating, dtype: int64"
      ]
     },
     "execution_count": 179,
     "metadata": {},
     "output_type": "execute_result"
    }
   ],
   "source": [
    "df.content_rating.value_counts()"
   ]
  },
  {
   "cell_type": "code",
   "execution_count": 184,
   "id": "c8894367",
   "metadata": {},
   "outputs": [],
   "source": [
    "import numpy as np"
   ]
  },
  {
   "cell_type": "code",
   "execution_count": 186,
   "id": "4d9ed54a",
   "metadata": {},
   "outputs": [],
   "source": [
    "df.content_rating = df.content_rating.replace(np.NaN, 'Unrated')"
   ]
  },
  {
   "cell_type": "code",
   "execution_count": 187,
   "id": "2929e310",
   "metadata": {},
   "outputs": [
    {
     "data": {
      "text/plain": [
       "R            45\n",
       "Unrated      24\n",
       "PG-13        12\n",
       "PG           11\n",
       "G             6\n",
       "Not Rated     1\n",
       "Approved      1\n",
       "Name: content_rating, dtype: int64"
      ]
     },
     "execution_count": 187,
     "metadata": {},
     "output_type": "execute_result"
    }
   ],
   "source": [
    "df.content_rating.value_counts()"
   ]
  },
  {
   "cell_type": "code",
   "execution_count": 189,
   "id": "d9e87b71",
   "metadata": {},
   "outputs": [
    {
     "data": {
      "text/html": [
       "<div>\n",
       "<style scoped>\n",
       "    .dataframe tbody tr th:only-of-type {\n",
       "        vertical-align: middle;\n",
       "    }\n",
       "\n",
       "    .dataframe tbody tr th {\n",
       "        vertical-align: top;\n",
       "    }\n",
       "\n",
       "    .dataframe thead th {\n",
       "        text-align: right;\n",
       "    }\n",
       "</style>\n",
       "<table border=\"1\" class=\"dataframe\">\n",
       "  <thead>\n",
       "    <tr style=\"text-align: right;\">\n",
       "      <th></th>\n",
       "      <th>title</th>\n",
       "      <th>release_year</th>\n",
       "      <th>genre</th>\n",
       "      <th>duration</th>\n",
       "      <th>country</th>\n",
       "      <th>content_rating</th>\n",
       "      <th>director</th>\n",
       "      <th>income</th>\n",
       "      <th>votes</th>\n",
       "      <th>score</th>\n",
       "    </tr>\n",
       "  </thead>\n",
       "  <tbody>\n",
       "    <tr>\n",
       "      <th>0</th>\n",
       "      <td>The Shawshank Redemption</td>\n",
       "      <td>1995-02-10</td>\n",
       "      <td>Drama</td>\n",
       "      <td>142</td>\n",
       "      <td>USA</td>\n",
       "      <td>R</td>\n",
       "      <td>Frank Darabont</td>\n",
       "      <td>$ 28815245</td>\n",
       "      <td>2.278.845</td>\n",
       "      <td>9.3</td>\n",
       "    </tr>\n",
       "    <tr>\n",
       "      <th>1</th>\n",
       "      <td>The Godfather</td>\n",
       "      <td>1972-09-21</td>\n",
       "      <td>Crime, Drama</td>\n",
       "      <td>175</td>\n",
       "      <td>USA</td>\n",
       "      <td>R</td>\n",
       "      <td>Francis Ford Coppola</td>\n",
       "      <td>$ 246120974</td>\n",
       "      <td>1.572.674</td>\n",
       "      <td>9.2</td>\n",
       "    </tr>\n",
       "    <tr>\n",
       "      <th>2</th>\n",
       "      <td>The Dark Knight</td>\n",
       "      <td>2008-07-23</td>\n",
       "      <td>Action, Crime, Drama</td>\n",
       "      <td>152</td>\n",
       "      <td>USA</td>\n",
       "      <td>PG-13</td>\n",
       "      <td>Christopher Nolan</td>\n",
       "      <td>$ 1005455211</td>\n",
       "      <td>2.241.615</td>\n",
       "      <td>9.</td>\n",
       "    </tr>\n",
       "  </tbody>\n",
       "</table>\n",
       "</div>"
      ],
      "text/plain": [
       "                      title release_year                 genre  duration  \\\n",
       "0  The Shawshank Redemption   1995-02-10                 Drama       142   \n",
       "1             The Godfather   1972-09-21          Crime, Drama       175   \n",
       "2           The Dark Knight   2008-07-23  Action, Crime, Drama       152   \n",
       "\n",
       "  country content_rating              director        income     votes  score  \n",
       "0     USA              R        Frank Darabont    $ 28815245  2.278.845   9.3  \n",
       "1     USA              R  Francis Ford Coppola   $ 246120974  1.572.674   9.2  \n",
       "2     USA          PG-13     Christopher Nolan  $ 1005455211  2.241.615    9.  "
      ]
     },
     "execution_count": 189,
     "metadata": {},
     "output_type": "execute_result"
    }
   ],
   "source": [
    "df.head(3)"
   ]
  },
  {
   "cell_type": "code",
   "execution_count": 191,
   "id": "9c6cb1bf",
   "metadata": {},
   "outputs": [
    {
     "data": {
      "text/plain": [
       "Christopher Nolan                  6\n",
       "Stanley Kubrick                    5\n",
       "Alfred Hitchcock                   4\n",
       "Quentin Tarantino                  4\n",
       "Sergio Leone                       4\n",
       "                                  ..\n",
       "Isao Takahata                      1\n",
       "Giuseppe Tornatore                 1\n",
       "Lana Wachowski, Lilly Wachowski    1\n",
       "Andrew Stanton                     1\n",
       "Stanley Donen                      1\n",
       "Name: director, Length: 64, dtype: int64"
      ]
     },
     "execution_count": 191,
     "metadata": {},
     "output_type": "execute_result"
    }
   ],
   "source": [
    "df.director.value_counts()"
   ]
  },
  {
   "cell_type": "code",
   "execution_count": 193,
   "id": "40274b29",
   "metadata": {},
   "outputs": [
    {
     "data": {
      "text/plain": [
       "0"
      ]
     },
     "execution_count": 193,
     "metadata": {},
     "output_type": "execute_result"
    }
   ],
   "source": [
    "sum(df.director.isnull())"
   ]
  },
  {
   "cell_type": "code",
   "execution_count": 194,
   "id": "52c76a0d",
   "metadata": {},
   "outputs": [
    {
     "data": {
      "text/plain": [
       "0         $ 28815245\n",
       "1        $ 246120974\n",
       "2       $ 1005455211\n",
       "3      $ 4o8,035,783\n",
       "4        $ 222831817\n",
       "           ...      \n",
       "96       $ 156000000\n",
       "97        $ 11487676\n",
       "98        $ 15000000\n",
       "99        $ 22926076\n",
       "100        $ 1864182\n",
       "Name: income, Length: 100, dtype: object"
      ]
     },
     "execution_count": 194,
     "metadata": {},
     "output_type": "execute_result"
    }
   ],
   "source": [
    "df.income"
   ]
  },
  {
   "cell_type": "code",
   "execution_count": 197,
   "id": "91a0eb40",
   "metadata": {},
   "outputs": [],
   "source": [
    "df.income = df.income.str.lstrip('$  ')"
   ]
  },
  {
   "cell_type": "code",
   "execution_count": 200,
   "id": "e12e55fe",
   "metadata": {},
   "outputs": [],
   "source": [
    "df.income = df.income.str.replace(',', '')"
   ]
  },
  {
   "cell_type": "code",
   "execution_count": 202,
   "id": "66398ec6",
   "metadata": {},
   "outputs": [],
   "source": [
    "df.income = df.income.str.replace('o', '0')"
   ]
  },
  {
   "cell_type": "code",
   "execution_count": 207,
   "id": "12961d88",
   "metadata": {},
   "outputs": [],
   "source": [
    "df.income = df.income.astype(np.int64)"
   ]
  },
  {
   "cell_type": "code",
   "execution_count": 209,
   "id": "4601dd7b",
   "metadata": {},
   "outputs": [
    {
     "name": "stdout",
     "output_type": "stream",
     "text": [
      "<class 'pandas.core.frame.DataFrame'>\n",
      "Int64Index: 100 entries, 0 to 100\n",
      "Data columns (total 10 columns):\n",
      " #   Column          Non-Null Count  Dtype         \n",
      "---  ------          --------------  -----         \n",
      " 0   title           100 non-null    object        \n",
      " 1   release_year    97 non-null     datetime64[ns]\n",
      " 2   genre           100 non-null    object        \n",
      " 3   duration        100 non-null    int32         \n",
      " 4   country         100 non-null    object        \n",
      " 5   content_rating  100 non-null    object        \n",
      " 6   director        100 non-null    object        \n",
      " 7   income          100 non-null    int64         \n",
      " 8    votes          100 non-null    object        \n",
      " 9   score           100 non-null    object        \n",
      "dtypes: datetime64[ns](1), int32(1), int64(1), object(7)\n",
      "memory usage: 8.2+ KB\n"
     ]
    }
   ],
   "source": [
    "df.info()"
   ]
  },
  {
   "cell_type": "code",
   "execution_count": 212,
   "id": "79055159",
   "metadata": {},
   "outputs": [],
   "source": [
    "df.columns = df.columns.str.strip()"
   ]
  },
  {
   "cell_type": "code",
   "execution_count": 215,
   "id": "aa7c8c37",
   "metadata": {},
   "outputs": [
    {
     "name": "stderr",
     "output_type": "stream",
     "text": [
      "C:\\Users\\HP\\AppData\\Local\\Temp/ipykernel_13548/3950900010.py:1: FutureWarning: The default value of regex will change from True to False in a future version. In addition, single character regular expressions will *not* be treated as literal strings when regex=True.\n",
      "  df.votes = df.votes.str.replace('.','')\n"
     ]
    }
   ],
   "source": [
    "df.votes = df.votes.str.replace('.','')"
   ]
  },
  {
   "cell_type": "code",
   "execution_count": 218,
   "id": "4a693d80",
   "metadata": {},
   "outputs": [],
   "source": [
    "df.votes = df.votes.astype(int)"
   ]
  },
  {
   "cell_type": "code",
   "execution_count": 221,
   "id": "90b6e89f",
   "metadata": {},
   "outputs": [
    {
     "data": {
      "text/plain": [
       "8.6       11\n",
       "8.2        8\n",
       "8.3        8\n",
       "8.1        7\n",
       "8.4        7\n",
       "8.5        6\n",
       "7.5        6\n",
       "7.8        6\n",
       "8.0        6\n",
       "7.9        5\n",
       "7.6        4\n",
       "7.7        4\n",
       "7.4        3\n",
       "8.8        3\n",
       "8.7        2\n",
       "8.9        2\n",
       "9.2        1\n",
       "8,6        1\n",
       "8,7e-0     1\n",
       "8.7.       1\n",
       "++8.7      1\n",
       "8:8        1\n",
       "8..8       1\n",
       "08.9       1\n",
       "8,9f       1\n",
       "9,.0       1\n",
       "9.         1\n",
       "9.3        1\n",
       "Name: score, dtype: int64"
      ]
     },
     "execution_count": 221,
     "metadata": {},
     "output_type": "execute_result"
    }
   ],
   "source": [
    "df.score.value_counts()"
   ]
  },
  {
   "cell_type": "code",
   "execution_count": 225,
   "id": "a62821e9",
   "metadata": {},
   "outputs": [],
   "source": [
    "df.score.replace({'8,6':'8.6','8,7e-0':'8.7','8.7.':'8.7','++8.7':'8.7',\n",
    "                     '8:8':'8.8','8..8':'8.8','08.9':'8.9','8,9f':'8.9',\n",
    "                     '9,.0':'9.0','9.':'9.0'}, inplace=True)"
   ]
  },
  {
   "cell_type": "code",
   "execution_count": 231,
   "id": "ee72d3c7",
   "metadata": {},
   "outputs": [],
   "source": [
    "df.score = df.score.astype(float)"
   ]
  },
  {
   "cell_type": "code",
   "execution_count": 232,
   "id": "b291cba5",
   "metadata": {},
   "outputs": [
    {
     "name": "stdout",
     "output_type": "stream",
     "text": [
      "<class 'pandas.core.frame.DataFrame'>\n",
      "Int64Index: 100 entries, 0 to 100\n",
      "Data columns (total 10 columns):\n",
      " #   Column          Non-Null Count  Dtype         \n",
      "---  ------          --------------  -----         \n",
      " 0   title           100 non-null    object        \n",
      " 1   release_year    97 non-null     datetime64[ns]\n",
      " 2   genre           100 non-null    object        \n",
      " 3   duration        100 non-null    int32         \n",
      " 4   country         100 non-null    object        \n",
      " 5   content_rating  100 non-null    object        \n",
      " 6   director        100 non-null    object        \n",
      " 7   income          100 non-null    int64         \n",
      " 8   votes           100 non-null    int32         \n",
      " 9   score           100 non-null    float64       \n",
      "dtypes: datetime64[ns](1), float64(1), int32(2), int64(1), object(5)\n",
      "memory usage: 7.8+ KB\n"
     ]
    }
   ],
   "source": [
    "df.info()"
   ]
  },
  {
   "cell_type": "code",
   "execution_count": 233,
   "id": "29bd8fbc",
   "metadata": {},
   "outputs": [
    {
     "data": {
      "text/html": [
       "<div>\n",
       "<style scoped>\n",
       "    .dataframe tbody tr th:only-of-type {\n",
       "        vertical-align: middle;\n",
       "    }\n",
       "\n",
       "    .dataframe tbody tr th {\n",
       "        vertical-align: top;\n",
       "    }\n",
       "\n",
       "    .dataframe thead th {\n",
       "        text-align: right;\n",
       "    }\n",
       "</style>\n",
       "<table border=\"1\" class=\"dataframe\">\n",
       "  <thead>\n",
       "    <tr style=\"text-align: right;\">\n",
       "      <th></th>\n",
       "      <th>title</th>\n",
       "      <th>release_year</th>\n",
       "      <th>genre</th>\n",
       "      <th>duration</th>\n",
       "      <th>country</th>\n",
       "      <th>content_rating</th>\n",
       "      <th>director</th>\n",
       "      <th>income</th>\n",
       "      <th>votes</th>\n",
       "      <th>score</th>\n",
       "    </tr>\n",
       "  </thead>\n",
       "  <tbody>\n",
       "    <tr>\n",
       "      <th>0</th>\n",
       "      <td>The Shawshank Redemption</td>\n",
       "      <td>1995-02-10</td>\n",
       "      <td>Drama</td>\n",
       "      <td>142</td>\n",
       "      <td>USA</td>\n",
       "      <td>R</td>\n",
       "      <td>Frank Darabont</td>\n",
       "      <td>28815245</td>\n",
       "      <td>2278845</td>\n",
       "      <td>9.3</td>\n",
       "    </tr>\n",
       "    <tr>\n",
       "      <th>1</th>\n",
       "      <td>The Godfather</td>\n",
       "      <td>1972-09-21</td>\n",
       "      <td>Crime, Drama</td>\n",
       "      <td>175</td>\n",
       "      <td>USA</td>\n",
       "      <td>R</td>\n",
       "      <td>Francis Ford Coppola</td>\n",
       "      <td>246120974</td>\n",
       "      <td>1572674</td>\n",
       "      <td>9.2</td>\n",
       "    </tr>\n",
       "    <tr>\n",
       "      <th>2</th>\n",
       "      <td>The Dark Knight</td>\n",
       "      <td>2008-07-23</td>\n",
       "      <td>Action, Crime, Drama</td>\n",
       "      <td>152</td>\n",
       "      <td>USA</td>\n",
       "      <td>PG-13</td>\n",
       "      <td>Christopher Nolan</td>\n",
       "      <td>1005455211</td>\n",
       "      <td>2241615</td>\n",
       "      <td>9.0</td>\n",
       "    </tr>\n",
       "    <tr>\n",
       "      <th>3</th>\n",
       "      <td>The Godfather: Part II</td>\n",
       "      <td>1975-09-25</td>\n",
       "      <td>Crime, Drama</td>\n",
       "      <td>220</td>\n",
       "      <td>USA</td>\n",
       "      <td>R</td>\n",
       "      <td>Francis Ford Coppola</td>\n",
       "      <td>408035783</td>\n",
       "      <td>1098714</td>\n",
       "      <td>9.0</td>\n",
       "    </tr>\n",
       "    <tr>\n",
       "      <th>4</th>\n",
       "      <td>Pulp Fiction</td>\n",
       "      <td>1994-10-28</td>\n",
       "      <td>Crime, Drama</td>\n",
       "      <td>0</td>\n",
       "      <td>USA</td>\n",
       "      <td>R</td>\n",
       "      <td>Quentin Tarantino</td>\n",
       "      <td>222831817</td>\n",
       "      <td>1780147</td>\n",
       "      <td>8.9</td>\n",
       "    </tr>\n",
       "    <tr>\n",
       "      <th>...</th>\n",
       "      <td>...</td>\n",
       "      <td>...</td>\n",
       "      <td>...</td>\n",
       "      <td>...</td>\n",
       "      <td>...</td>\n",
       "      <td>...</td>\n",
       "      <td>...</td>\n",
       "      <td>...</td>\n",
       "      <td>...</td>\n",
       "      <td>...</td>\n",
       "    </tr>\n",
       "    <tr>\n",
       "      <th>96</th>\n",
       "      <td>The Sting</td>\n",
       "      <td>1974-03-21</td>\n",
       "      <td>Comedy, Crime, Drama</td>\n",
       "      <td>129</td>\n",
       "      <td>USA</td>\n",
       "      <td>PG</td>\n",
       "      <td>George Roy Hill</td>\n",
       "      <td>156000000</td>\n",
       "      <td>236285</td>\n",
       "      <td>7.5</td>\n",
       "    </tr>\n",
       "    <tr>\n",
       "      <th>97</th>\n",
       "      <td>Das Boot</td>\n",
       "      <td>1982-03-18</td>\n",
       "      <td>Adventure, Drama, Thriller</td>\n",
       "      <td>149</td>\n",
       "      <td>West Germany</td>\n",
       "      <td>R</td>\n",
       "      <td>Wolfgang Petersen</td>\n",
       "      <td>11487676</td>\n",
       "      <td>226427</td>\n",
       "      <td>7.5</td>\n",
       "    </tr>\n",
       "    <tr>\n",
       "      <th>98</th>\n",
       "      <td>Per qualche dollaro in piÃ¹</td>\n",
       "      <td>1965-12-20</td>\n",
       "      <td>Western</td>\n",
       "      <td>132</td>\n",
       "      <td>Italy</td>\n",
       "      <td>Unrated</td>\n",
       "      <td>Sergio Leone</td>\n",
       "      <td>15000000</td>\n",
       "      <td>226039</td>\n",
       "      <td>7.4</td>\n",
       "    </tr>\n",
       "    <tr>\n",
       "      <th>99</th>\n",
       "      <td>Jodaeiye Nader az Simin</td>\n",
       "      <td>2011-10-21</td>\n",
       "      <td>Drama</td>\n",
       "      <td>123</td>\n",
       "      <td>Iran</td>\n",
       "      <td>PG-13</td>\n",
       "      <td>Asghar Farhadi</td>\n",
       "      <td>22926076</td>\n",
       "      <td>214165</td>\n",
       "      <td>7.4</td>\n",
       "    </tr>\n",
       "    <tr>\n",
       "      <th>100</th>\n",
       "      <td>Singin' in the Rain</td>\n",
       "      <td>1953-02-05</td>\n",
       "      <td>Comedy, Musical, Romance</td>\n",
       "      <td>103</td>\n",
       "      <td>USA</td>\n",
       "      <td>Unrated</td>\n",
       "      <td>Stanley Donen</td>\n",
       "      <td>1864182</td>\n",
       "      <td>213152</td>\n",
       "      <td>7.4</td>\n",
       "    </tr>\n",
       "  </tbody>\n",
       "</table>\n",
       "<p>100 rows × 10 columns</p>\n",
       "</div>"
      ],
      "text/plain": [
       "                           title release_year                       genre  \\\n",
       "0       The Shawshank Redemption   1995-02-10                       Drama   \n",
       "1                  The Godfather   1972-09-21                Crime, Drama   \n",
       "2                The Dark Knight   2008-07-23        Action, Crime, Drama   \n",
       "3         The Godfather: Part II   1975-09-25                Crime, Drama   \n",
       "4                   Pulp Fiction   1994-10-28                Crime, Drama   \n",
       "..                           ...          ...                         ...   \n",
       "96                     The Sting   1974-03-21        Comedy, Crime, Drama   \n",
       "97                      Das Boot   1982-03-18  Adventure, Drama, Thriller   \n",
       "98   Per qualche dollaro in piÃ¹   1965-12-20                     Western   \n",
       "99       Jodaeiye Nader az Simin   2011-10-21                       Drama   \n",
       "100          Singin' in the Rain   1953-02-05    Comedy, Musical, Romance   \n",
       "\n",
       "     duration       country content_rating              director      income  \\\n",
       "0         142           USA              R        Frank Darabont    28815245   \n",
       "1         175           USA              R  Francis Ford Coppola   246120974   \n",
       "2         152           USA          PG-13     Christopher Nolan  1005455211   \n",
       "3         220           USA              R  Francis Ford Coppola   408035783   \n",
       "4           0           USA              R     Quentin Tarantino   222831817   \n",
       "..        ...           ...            ...                   ...         ...   \n",
       "96        129           USA             PG       George Roy Hill   156000000   \n",
       "97        149  West Germany              R     Wolfgang Petersen    11487676   \n",
       "98        132         Italy        Unrated          Sergio Leone    15000000   \n",
       "99        123          Iran          PG-13        Asghar Farhadi    22926076   \n",
       "100       103           USA        Unrated         Stanley Donen     1864182   \n",
       "\n",
       "       votes  score  \n",
       "0    2278845    9.3  \n",
       "1    1572674    9.2  \n",
       "2    2241615    9.0  \n",
       "3    1098714    9.0  \n",
       "4    1780147    8.9  \n",
       "..       ...    ...  \n",
       "96    236285    7.5  \n",
       "97    226427    7.5  \n",
       "98    226039    7.4  \n",
       "99    214165    7.4  \n",
       "100   213152    7.4  \n",
       "\n",
       "[100 rows x 10 columns]"
      ]
     },
     "execution_count": 233,
     "metadata": {},
     "output_type": "execute_result"
    }
   ],
   "source": [
    "df"
   ]
  },
  {
   "cell_type": "code",
   "execution_count": 235,
   "id": "8d35d366",
   "metadata": {},
   "outputs": [],
   "source": [
    "df.to_csv('clean_data.csv', index=False)"
   ]
  },
  {
   "cell_type": "code",
   "execution_count": 236,
   "id": "24cc92e7",
   "metadata": {},
   "outputs": [],
   "source": [
    "df = pd.read_csv('fuel.csv')"
   ]
  },
  {
   "cell_type": "code",
   "execution_count": 237,
   "id": "3023d004",
   "metadata": {},
   "outputs": [
    {
     "data": {
      "text/html": [
       "<div>\n",
       "<style scoped>\n",
       "    .dataframe tbody tr th:only-of-type {\n",
       "        vertical-align: middle;\n",
       "    }\n",
       "\n",
       "    .dataframe tbody tr th {\n",
       "        vertical-align: top;\n",
       "    }\n",
       "\n",
       "    .dataframe thead th {\n",
       "        text-align: right;\n",
       "    }\n",
       "</style>\n",
       "<table border=\"1\" class=\"dataframe\">\n",
       "  <thead>\n",
       "    <tr style=\"text-align: right;\">\n",
       "      <th></th>\n",
       "      <th>id</th>\n",
       "      <th>make</th>\n",
       "      <th>model</th>\n",
       "      <th>year</th>\n",
       "      <th>VClass</th>\n",
       "      <th>drive</th>\n",
       "      <th>trans</th>\n",
       "      <th>fuelType</th>\n",
       "      <th>cylinders</th>\n",
       "      <th>displacement</th>\n",
       "      <th>combined fuel efficiency</th>\n",
       "      <th>co2 emission</th>\n",
       "    </tr>\n",
       "  </thead>\n",
       "  <tbody>\n",
       "    <tr>\n",
       "      <th>0</th>\n",
       "      <td>32204</td>\n",
       "      <td>Nissan</td>\n",
       "      <td>GT-R</td>\n",
       "      <td>2013</td>\n",
       "      <td>Subcompact Cars</td>\n",
       "      <td>All-Wheel Drive</td>\n",
       "      <td>Automatic (AM6)</td>\n",
       "      <td>Premium Gasoline</td>\n",
       "      <td>6</td>\n",
       "      <td>3.8</td>\n",
       "      <td>18.7389</td>\n",
       "      <td>471</td>\n",
       "    </tr>\n",
       "    <tr>\n",
       "      <th>1</th>\n",
       "      <td>32205</td>\n",
       "      <td>Volkswagen</td>\n",
       "      <td>CC</td>\n",
       "      <td>2013</td>\n",
       "      <td>Compact Cars</td>\n",
       "      <td>Front-Wheel Drive</td>\n",
       "      <td>Automatic (AM-S6)</td>\n",
       "      <td>Premium Gasoline</td>\n",
       "      <td>4</td>\n",
       "      <td>2.0</td>\n",
       "      <td>25.2227</td>\n",
       "      <td>349</td>\n",
       "    </tr>\n",
       "    <tr>\n",
       "      <th>2</th>\n",
       "      <td>32206</td>\n",
       "      <td>Volkswagen</td>\n",
       "      <td>CC</td>\n",
       "      <td>2013</td>\n",
       "      <td>Compact Cars</td>\n",
       "      <td>Front-Wheel Drive</td>\n",
       "      <td>Automatic (S6)</td>\n",
       "      <td>Premium Gasoline</td>\n",
       "      <td>6</td>\n",
       "      <td>3.6</td>\n",
       "      <td>20.6716</td>\n",
       "      <td>429</td>\n",
       "    </tr>\n",
       "    <tr>\n",
       "      <th>3</th>\n",
       "      <td>32207</td>\n",
       "      <td>Volkswagen</td>\n",
       "      <td>CC 4motion</td>\n",
       "      <td>2013</td>\n",
       "      <td>Compact Cars</td>\n",
       "      <td>All-Wheel Drive</td>\n",
       "      <td>Automatic (S6)</td>\n",
       "      <td>Premium Gasoline</td>\n",
       "      <td>6</td>\n",
       "      <td>3.6</td>\n",
       "      <td>19.8774</td>\n",
       "      <td>446</td>\n",
       "    </tr>\n",
       "    <tr>\n",
       "      <th>4</th>\n",
       "      <td>32208</td>\n",
       "      <td>Chevrolet</td>\n",
       "      <td>Malibu eAssist</td>\n",
       "      <td>2013</td>\n",
       "      <td>Midsize Cars</td>\n",
       "      <td>Front-Wheel Drive</td>\n",
       "      <td>Automatic (S6)</td>\n",
       "      <td>Regular Gasoline</td>\n",
       "      <td>4</td>\n",
       "      <td>2.4</td>\n",
       "      <td>28.6813</td>\n",
       "      <td>310</td>\n",
       "    </tr>\n",
       "    <tr>\n",
       "      <th>...</th>\n",
       "      <td>...</td>\n",
       "      <td>...</td>\n",
       "      <td>...</td>\n",
       "      <td>...</td>\n",
       "      <td>...</td>\n",
       "      <td>...</td>\n",
       "      <td>...</td>\n",
       "      <td>...</td>\n",
       "      <td>...</td>\n",
       "      <td>...</td>\n",
       "      <td>...</td>\n",
       "      <td>...</td>\n",
       "    </tr>\n",
       "    <tr>\n",
       "      <th>3924</th>\n",
       "      <td>39882</td>\n",
       "      <td>Toyota</td>\n",
       "      <td>Prius Prime</td>\n",
       "      <td>2018</td>\n",
       "      <td>Midsize Cars</td>\n",
       "      <td>Front-Wheel Drive</td>\n",
       "      <td>Automatic (variable gear ratios)</td>\n",
       "      <td>Regular Gasoline</td>\n",
       "      <td>4</td>\n",
       "      <td>1.8</td>\n",
       "      <td>54.4329</td>\n",
       "      <td>78</td>\n",
       "    </tr>\n",
       "    <tr>\n",
       "      <th>3925</th>\n",
       "      <td>39898</td>\n",
       "      <td>Hyundai</td>\n",
       "      <td>Sonata Hybrid</td>\n",
       "      <td>2018</td>\n",
       "      <td>Midsize Cars</td>\n",
       "      <td>Front-Wheel Drive</td>\n",
       "      <td>Automatic (AM6)</td>\n",
       "      <td>Regular Gasoline</td>\n",
       "      <td>4</td>\n",
       "      <td>2.0</td>\n",
       "      <td>41.0000</td>\n",
       "      <td>217</td>\n",
       "    </tr>\n",
       "    <tr>\n",
       "      <th>3926</th>\n",
       "      <td>39899</td>\n",
       "      <td>Hyundai</td>\n",
       "      <td>Sonata Hybrid SE</td>\n",
       "      <td>2018</td>\n",
       "      <td>Midsize Cars</td>\n",
       "      <td>Front-Wheel Drive</td>\n",
       "      <td>Automatic (AM6)</td>\n",
       "      <td>Regular Gasoline</td>\n",
       "      <td>4</td>\n",
       "      <td>2.0</td>\n",
       "      <td>42.0000</td>\n",
       "      <td>212</td>\n",
       "    </tr>\n",
       "    <tr>\n",
       "      <th>3927</th>\n",
       "      <td>39900</td>\n",
       "      <td>Lexus</td>\n",
       "      <td>LS 500</td>\n",
       "      <td>2018</td>\n",
       "      <td>Midsize Cars</td>\n",
       "      <td>Rear-Wheel Drive</td>\n",
       "      <td>Automatic (S10)</td>\n",
       "      <td>Premium Gasoline</td>\n",
       "      <td>6</td>\n",
       "      <td>3.4</td>\n",
       "      <td>23.0021</td>\n",
       "      <td>387</td>\n",
       "    </tr>\n",
       "    <tr>\n",
       "      <th>3928</th>\n",
       "      <td>39901</td>\n",
       "      <td>Lexus</td>\n",
       "      <td>LS 500 AWD</td>\n",
       "      <td>2018</td>\n",
       "      <td>Midsize Cars</td>\n",
       "      <td>All-Wheel Drive</td>\n",
       "      <td>Automatic (S10)</td>\n",
       "      <td>Premium Gasoline</td>\n",
       "      <td>6</td>\n",
       "      <td>3.4</td>\n",
       "      <td>21.3945</td>\n",
       "      <td>417</td>\n",
       "    </tr>\n",
       "  </tbody>\n",
       "</table>\n",
       "<p>3929 rows × 12 columns</p>\n",
       "</div>"
      ],
      "text/plain": [
       "         id        make             model  year           VClass  \\\n",
       "0     32204      Nissan              GT-R  2013  Subcompact Cars   \n",
       "1     32205  Volkswagen                CC  2013     Compact Cars   \n",
       "2     32206  Volkswagen                CC  2013     Compact Cars   \n",
       "3     32207  Volkswagen        CC 4motion  2013     Compact Cars   \n",
       "4     32208   Chevrolet    Malibu eAssist  2013     Midsize Cars   \n",
       "...     ...         ...               ...   ...              ...   \n",
       "3924  39882      Toyota       Prius Prime  2018     Midsize Cars   \n",
       "3925  39898     Hyundai     Sonata Hybrid  2018     Midsize Cars   \n",
       "3926  39899     Hyundai  Sonata Hybrid SE  2018     Midsize Cars   \n",
       "3927  39900       Lexus            LS 500  2018     Midsize Cars   \n",
       "3928  39901       Lexus        LS 500 AWD  2018     Midsize Cars   \n",
       "\n",
       "                  drive                             trans          fuelType  \\\n",
       "0       All-Wheel Drive                   Automatic (AM6)  Premium Gasoline   \n",
       "1     Front-Wheel Drive                 Automatic (AM-S6)  Premium Gasoline   \n",
       "2     Front-Wheel Drive                    Automatic (S6)  Premium Gasoline   \n",
       "3       All-Wheel Drive                    Automatic (S6)  Premium Gasoline   \n",
       "4     Front-Wheel Drive                    Automatic (S6)  Regular Gasoline   \n",
       "...                 ...                               ...               ...   \n",
       "3924  Front-Wheel Drive  Automatic (variable gear ratios)  Regular Gasoline   \n",
       "3925  Front-Wheel Drive                   Automatic (AM6)  Regular Gasoline   \n",
       "3926  Front-Wheel Drive                   Automatic (AM6)  Regular Gasoline   \n",
       "3927   Rear-Wheel Drive                   Automatic (S10)  Premium Gasoline   \n",
       "3928    All-Wheel Drive                   Automatic (S10)  Premium Gasoline   \n",
       "\n",
       "      cylinders  displacement  combined fuel efficiency  co2 emission  \n",
       "0             6           3.8                   18.7389           471  \n",
       "1             4           2.0                   25.2227           349  \n",
       "2             6           3.6                   20.6716           429  \n",
       "3             6           3.6                   19.8774           446  \n",
       "4             4           2.4                   28.6813           310  \n",
       "...         ...           ...                       ...           ...  \n",
       "3924          4           1.8                   54.4329            78  \n",
       "3925          4           2.0                   41.0000           217  \n",
       "3926          4           2.0                   42.0000           212  \n",
       "3927          6           3.4                   23.0021           387  \n",
       "3928          6           3.4                   21.3945           417  \n",
       "\n",
       "[3929 rows x 12 columns]"
      ]
     },
     "execution_count": 237,
     "metadata": {},
     "output_type": "execute_result"
    }
   ],
   "source": [
    "df"
   ]
  },
  {
   "cell_type": "code",
   "execution_count": 254,
   "id": "cfca03a2",
   "metadata": {},
   "outputs": [
    {
     "data": {
      "text/plain": [
       "2015    671\n",
       "2017    665\n",
       "2014    660\n",
       "2016    658\n",
       "2018    638\n",
       "2013    637\n",
       "Name: year, dtype: int64"
      ]
     },
     "execution_count": 254,
     "metadata": {},
     "output_type": "execute_result"
    }
   ],
   "source": [
    "df.year.value_counts()"
   ]
  },
  {
   "cell_type": "code",
   "execution_count": 246,
   "id": "96414951",
   "metadata": {},
   "outputs": [],
   "source": [
    "df.trans = df.trans.str.split(' ', expand=True)[0]"
   ]
  },
  {
   "cell_type": "code",
   "execution_count": 247,
   "id": "2d0aa416",
   "metadata": {},
   "outputs": [
    {
     "data": {
      "text/plain": [
       "Automatic    3068\n",
       "Manual        861\n",
       "Name: trans, dtype: int64"
      ]
     },
     "execution_count": 247,
     "metadata": {},
     "output_type": "execute_result"
    }
   ],
   "source": [
    "df.trans.value_counts()"
   ]
  },
  {
   "cell_type": "code",
   "execution_count": 248,
   "id": "aa94967f",
   "metadata": {},
   "outputs": [
    {
     "data": {
      "text/plain": [
       "0"
      ]
     },
     "execution_count": 248,
     "metadata": {},
     "output_type": "execute_result"
    }
   ],
   "source": [
    "sum(df.trans.isnull())"
   ]
  },
  {
   "cell_type": "code",
   "execution_count": 249,
   "id": "abb7d096",
   "metadata": {},
   "outputs": [
    {
     "data": {
      "text/plain": [
       "BMW                  523\n",
       "Mercedes-Benz        269\n",
       "Porsche              235\n",
       "Ford                 218\n",
       "Chevrolet            212\n",
       "MINI                 201\n",
       "Audi                 201\n",
       "Volkswagen           174\n",
       "Hyundai              158\n",
       "Dodge                140\n",
       "Lexus                125\n",
       "Kia                  124\n",
       "Cadillac             118\n",
       "Toyota               116\n",
       "Infiniti             108\n",
       "Honda                101\n",
       "Jaguar                98\n",
       "Mazda                 87\n",
       "Nissan                71\n",
       "Buick                 66\n",
       "Subaru                60\n",
       "Chrysler              58\n",
       "Lincoln               52\n",
       "Volvo                 50\n",
       "Acura                 46\n",
       "Bentley               45\n",
       "Mitsubishi            44\n",
       "Rolls-Royce           42\n",
       "Maserati              39\n",
       "Scion                 27\n",
       "Fiat                  26\n",
       "Ferrari               23\n",
       "Genesis               17\n",
       "Aston Martin          15\n",
       "Suzuki                13\n",
       "Roush Performance     10\n",
       "Lotus                 10\n",
       "Alfa Romeo             6\n",
       "Karma                  1\n",
       "Name: make, dtype: int64"
      ]
     },
     "execution_count": 249,
     "metadata": {},
     "output_type": "execute_result"
    }
   ],
   "source": [
    "df.make.value_counts()"
   ]
  },
  {
   "cell_type": "code",
   "execution_count": 250,
   "id": "4eea061c",
   "metadata": {},
   "outputs": [
    {
     "data": {
      "text/plain": [
       "Camaro            45\n",
       "Jetta             39\n",
       "Accord            35\n",
       "Mustang           32\n",
       "Focus FWD         28\n",
       "                  ..\n",
       "Kizashi S AWD      1\n",
       "Kizashi AWD        1\n",
       "G37x               1\n",
       "IS 350/IS 350C     1\n",
       "LS 500 AWD         1\n",
       "Name: model, Length: 769, dtype: int64"
      ]
     },
     "execution_count": 250,
     "metadata": {},
     "output_type": "execute_result"
    }
   ],
   "source": [
    "df.model.value_counts()"
   ]
  },
  {
   "cell_type": "code",
   "execution_count": 253,
   "id": "6afa76f3",
   "metadata": {},
   "outputs": [
    {
     "data": {
      "text/plain": [
       "0                   GT-R\n",
       "1                     CC\n",
       "2                     CC\n",
       "3             CC 4motion\n",
       "4         Malibu eAssist\n",
       "              ...       \n",
       "3924         Prius Prime\n",
       "3925       Sonata Hybrid\n",
       "3926    Sonata Hybrid SE\n",
       "3927              LS 500\n",
       "3928             LS 500 \n",
       "Name: model, Length: 3929, dtype: object"
      ]
     },
     "execution_count": 253,
     "metadata": {},
     "output_type": "execute_result"
    }
   ],
   "source": [
    "df.model.str.strip('AWD')"
   ]
  }
 ],
 "metadata": {
  "kernelspec": {
   "display_name": "Python 3 (ipykernel)",
   "language": "python",
   "name": "python3"
  },
  "language_info": {
   "codemirror_mode": {
    "name": "ipython",
    "version": 3
   },
   "file_extension": ".py",
   "mimetype": "text/x-python",
   "name": "python",
   "nbconvert_exporter": "python",
   "pygments_lexer": "ipython3",
   "version": "3.9.7"
  }
 },
 "nbformat": 4,
 "nbformat_minor": 5
}
